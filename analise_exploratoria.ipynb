{
 "cells": [
  {
   "cell_type": "markdown",
   "metadata": {},
   "source": [
    "# Impots"
   ]
  },
  {
   "cell_type": "code",
   "execution_count": 139,
   "metadata": {},
   "outputs": [],
   "source": [
    "import pandas as pd\n",
    "import requests\n",
    "from bs4 import BeautifulSoup\n",
    "import matplotlib.pyplot as plt\n",
    "import seaborn as sns\n",
    "import statsmodels.api as sm\n",
    "from prophet import Prophet\n",
    "from statsmodels.tsa.seasonal import seasonal_decompose\n",
    "import numpy as np\n",
    "import xgboost as xgb\n",
    "from sklearn.metrics import mean_squared_error, mean_absolute_error\n",
    "from sklearn.model_selection import train_test_split\n",
    "import xgboost as xgb\n",
    "import joblib\n"
   ]
  },
  {
   "cell_type": "markdown",
   "metadata": {},
   "source": [
    "# 1. Carregar base de dados via URL"
   ]
  },
  {
   "cell_type": "code",
   "execution_count": null,
   "metadata": {},
   "outputs": [],
   "source": [
    "\n",
    "# Definir a URL\n",
    "url = \"http://www.ipeadata.gov.br/ExibeSerie.aspx?module=m&serid=1650971490&oper=view\"\n",
    "\n",
    "# Fazer a requisição à página\n",
    "response = requests.get(url)\n",
    "\n",
    "if response.status_code == 200:\n",
    "    print(\" Página acessada com sucesso.\")\n",
    "else:\n",
    "    try:\n",
    "        df = pd.read_csv(\"dados/dados_petroleo_brent_2005_2025.csv\")\n",
    "        print(\"Arquivo carregado com sucesso!\")\n",
    "    except FileNotFoundError:\n",
    "        print(f\"Erro: O arquivo local {df} não foi encontrado.\")\n",
    "        df = None  \n",
    "    print(f\" Erro ao acessar a página. Código: {response.status_code}\")"
   ]
  },
  {
   "cell_type": "markdown",
   "metadata": {},
   "source": [
    "# 2. Parsear o HTML e localizar a tabela"
   ]
  },
  {
   "cell_type": "code",
   "execution_count": null,
   "metadata": {},
   "outputs": [],
   "source": [
    "\n",
    "# Verificar se a requisição foi bem-sucedida\n",
    "if response.status_code == 200:\n",
    "    # Parsear o HTML\n",
    "    soup = BeautifulSoup(response.content, 'html.parser')\n",
    "    \n",
    "    # Procurar a tabela com a classe específica\n",
    "    table = soup.find('table', {'class': 'dxgvTable'})\n",
    "    \n",
    "    if table:\n",
    "        print(\" Tabela encontrada, iniciando a criação do DataFrame...\")\n",
    "    else:\n",
    "        print(\" Tabela não encontrada na página.\")"
   ]
  },
  {
   "cell_type": "markdown",
   "metadata": {},
   "source": [
    "# 3. Criar o DataFrame inicial"
   ]
  },
  {
   "cell_type": "code",
   "execution_count": null,
   "metadata": {},
   "outputs": [],
   "source": [
    "if table:\n",
    "    # Ler a tabela HTML para um DataFrame Pandas\n",
    "    df = pd.read_html(str(table))[0]\n",
    "\n",
    "    # Renomear as colunas\n",
    "    df.columns = [\"Data\", \"Preço (US$)\"]\n",
    "\n",
    "    # Exibir as 5 primeiras linhas para conferir\n",
    "    df.head()"
   ]
  },
  {
   "cell_type": "markdown",
   "metadata": {},
   "source": [
    "# 4. Limpeza inicial dos dados"
   ]
  },
  {
   "cell_type": "code",
   "execution_count": null,
   "metadata": {},
   "outputs": [],
   "source": [
    "# **4. Limpeza inicial dos dados**\n",
    "# Filtrar apenas linhas onde a coluna 'Data' é válida\n",
    "print(\"Limpando dados inválidos na coluna 'Data'...\")\n",
    "df = df[df[\"Data\"].str.match(r\"\\d{2}/\\d{2}/\\d{4}\", na=False)]\n",
    "\n",
    "# Converter a coluna \"Data\" para datetime\n",
    "df[\"Data\"] = pd.to_datetime(df[\"Data\"], format=\"%d/%m/%Y\", errors=\"coerce\")\n",
    "\n",
    "# Remover valores nulos gerados pela conversão\n",
    "df = df.dropna(subset=[\"Data\"]).reset_index(drop=True)\n",
    "\n",
    "# Exibir informações sobre o DataFrame\n",
    "df.info()"
   ]
  },
  {
   "cell_type": "markdown",
   "metadata": {},
   "source": [
    " # 5. Ajuste dos valores na coluna “Preço (US$)”"
   ]
  },
  {
   "cell_type": "code",
   "execution_count": null,
   "metadata": {},
   "outputs": [],
   "source": [
    "# Substituir a vírgula por ponto e converter para float\n",
    "df[\"Preço (US$)\"] = df[\"Preço (US$)\"].str.replace(\",\", \".\").astype(float) / 100\n",
    "\n",
    "# Exibir estatísticas descritivas\n",
    "df.describe()"
   ]
  },
  {
   "cell_type": "markdown",
   "metadata": {},
   "source": [
    "#  6. Filtrar os dados no intervalo de 2005 a 2025"
   ]
  },
  {
   "cell_type": "code",
   "execution_count": null,
   "metadata": {},
   "outputs": [],
   "source": [
    "# Manter apenas os dados entre 2005 e 2025\n",
    "df = df[(df[\"Data\"] >= \"2005-01-01\") & (df[\"Data\"] <= \"2025-12-31\")]\n",
    "\n",
    "# Resetar o índice\n",
    "df = df.reset_index(drop=True)\n",
    "\n",
    "# Exibir as 5 primeiras linhas após a filtragem\n",
    "df.head()"
   ]
  },
  {
   "cell_type": "markdown",
   "metadata": {},
   "source": [
    " # 7. Verificação da Qualidade dos Dados"
   ]
  },
  {
   "cell_type": "code",
   "execution_count": null,
   "metadata": {},
   "outputs": [],
   "source": [
    "# Exibir estatísticas descritivas\n",
    "print(\" Estatísticas descritivas:\")\n",
    "display(df.describe())\n",
    "\n",
    "# Verificar a contagem de valores nulos\n",
    "print(\"\\n Contagem de valores nulos:\")\n",
    "print(df.isnull().sum())\n",
    "\n",
    "# Mostrar informações do DataFrame\n",
    "print(\"\\n Estrutura do DataFrame:\")\n",
    "df.info()\n",
    "\n",
    "# Verificar se há datas duplicadas\n",
    "duplicadas = df[\"Data\"].value_counts()\n",
    "if any(duplicadas > 1):\n",
    "    print(\"\\n TEM DATA DUPLICADAS!\")\n",
    "else:\n",
    "    print(\"\\n NÃO TEM DATA DUPLICADAS!\")"
   ]
  },
  {
   "cell_type": "markdown",
   "metadata": {},
   "source": [
    "# 8. Salvar os dados tratados"
   ]
  },
  {
   "cell_type": "code",
   "execution_count": null,
   "metadata": {},
   "outputs": [],
   "source": [
    "# Salvar os dados limpos em CSV\n",
    "df.to_csv(\"dados/dados_petroleo_brent_2005_2025.csv\", index=False, encoding=\"utf-8\")\n",
    "print(f\"Dados salvos com sucesso em {df}.\")"
   ]
  },
  {
   "cell_type": "markdown",
   "metadata": {},
   "source": [
    "# 10. Evolução do Preço ao Longo do Tempo"
   ]
  },
  {
   "cell_type": "code",
   "execution_count": null,
   "metadata": {},
   "outputs": [],
   "source": [
    "# Evolução do preço ao longo do tempo\n",
    "plt.figure(figsize=(12, 6))\n",
    "sns.lineplot(x=df[\"Data\"], y=df[\"Preço (US$)\"], linewidth=2)\n",
    "plt.title(\"Evolução do Preço do Petróleo Brent (2005-2025)\")\n",
    "plt.xlabel(\"Ano\")\n",
    "plt.ylabel(\"Preço (US$)\")\n",
    "plt.grid(True)\n",
    "plt.show()"
   ]
  },
  {
   "cell_type": "markdown",
   "metadata": {},
   "source": [
    " # 11. Distribuição dos Preços"
   ]
  },
  {
   "cell_type": "code",
   "execution_count": null,
   "metadata": {},
   "outputs": [],
   "source": [
    "\n",
    "plt.figure(figsize=(12, 6))\n",
    "sns.histplot(df[\"Preço (US$)\"], bins=30, kde=True)\n",
    "plt.title(\"Distribuição dos Preços do Petróleo Brent\")\n",
    "plt.xlabel(\"Preço (US$)\")\n",
    "plt.ylabel(\"Frequência\")\n",
    "plt.grid(True)\n",
    "plt.show()"
   ]
  },
  {
   "cell_type": "markdown",
   "metadata": {},
   "source": [
    "# 12. Boxplot dos Preços ao Longo do Tempo"
   ]
  },
  {
   "cell_type": "code",
   "execution_count": null,
   "metadata": {},
   "outputs": [],
   "source": [
    "# 📦 Boxplot dos preços ao longo do tempo\n",
    "plt.figure(figsize=(12, 6))\n",
    "sns.boxplot(x=df[\"Data\"].dt.year, y=\"Preço (US$)\", data=df)\n",
    "plt.title(\"Boxplot dos Preços do Petróleo por Ano\")\n",
    "plt.xlabel(\"Ano\")\n",
    "plt.ylabel(\"Preço (US$)\")\n",
    "plt.xticks(rotation=45)\n",
    "plt.grid(True)\n",
    "plt.show()"
   ]
  },
  {
   "cell_type": "markdown",
   "metadata": {},
   "source": [
    "# 13. Preço Médio por Ano"
   ]
  },
  {
   "cell_type": "code",
   "execution_count": null,
   "metadata": {},
   "outputs": [],
   "source": [
    "\n",
    "df_yearly = df.groupby(df[\"Data\"].dt.year)[\"Preço (US$)\"].mean().reset_index()\n",
    "plt.figure(figsize=(12, 6))\n",
    "sns.barplot(x=\"Data\", y=\"Preço (US$)\", data=df_yearly)\n",
    "plt.title(\"Preço Médio Anual do Petróleo Brent\")\n",
    "plt.xlabel(\"Ano\")\n",
    "plt.ylabel(\"Preço Médio (US$)\")\n",
    "plt.grid(True)\n",
    "plt.show()"
   ]
  },
  {
   "cell_type": "markdown",
   "metadata": {},
   "source": [
    "# 14. Evolução do Preço com Eventos Geopolíticos"
   ]
  },
  {
   "cell_type": "code",
   "execution_count": null,
   "metadata": {},
   "outputs": [],
   "source": [
    "\n",
    "plt.figure(figsize=(12, 6))\n",
    "sns.lineplot(x=\"Data\", y=\"Preço (US$)\", data=df, label=\"Preço do Petróleo\")\n",
    "plt.axvline(pd.Timestamp(\"2008-09-15\"), color=\"red\", linestyle=\"--\", label=\"Crise Financeira 2008\")\n",
    "plt.axvline(pd.Timestamp(\"2020-03-01\"), color=\"blue\", linestyle=\"--\", label=\"Início da Pandemia COVID-19\")\n",
    "plt.title(\"Evolução do Preço do Petróleo Brent com Eventos Geopolíticos\")\n",
    "plt.xlabel(\"Ano\")\n",
    "plt.ylabel(\"Preço (US$)\")\n",
    "plt.legend()\n",
    "plt.grid(True)\n",
    "plt.show()"
   ]
  },
  {
   "cell_type": "markdown",
   "metadata": {},
   "source": [
    " # 15. Variação Percentual Mensal do Preço"
   ]
  },
  {
   "cell_type": "code",
   "execution_count": null,
   "metadata": {},
   "outputs": [],
   "source": [
    "\n",
    "df[\"Variação (%)\"] = df[\"Preço (US$)\"].pct_change() * 100\n",
    "plt.figure(figsize=(12, 6))\n",
    "sns.lineplot(x=\"Data\", y=\"Variação (%)\", data=df)\n",
    "plt.axhline(0, color=\"black\", linestyle=\"--\")\n",
    "plt.title(\"Variação Percentual Mensal do Preço do Petróleo\")\n",
    "plt.xlabel(\"Ano\")\n",
    "plt.ylabel(\"Variação (%)\")\n",
    "plt.grid(True)\n",
    "plt.show()"
   ]
  },
  {
   "cell_type": "markdown",
   "metadata": {},
   "source": [
    "# 16. Comparação Antes e Depois da Crise de 2008"
   ]
  },
  {
   "cell_type": "code",
   "execution_count": null,
   "metadata": {},
   "outputs": [],
   "source": [
    "\n",
    "df_crise_2008 = df[(df[\"Data\"] >= \"2007-01-01\") & (df[\"Data\"] <= \"2009-12-31\")]\n",
    "plt.figure(figsize=(12, 6))\n",
    "sns.lineplot(x=\"Data\", y=\"Preço (US$)\", data=df_crise_2008)\n",
    "plt.axvline(pd.Timestamp(\"2008-09-15\"), color=\"red\", linestyle=\"--\", label=\"Crise Financeira 2008\")\n",
    "plt.title(\"Preço do Petróleo Antes e Após a Crise de 2008\")\n",
    "plt.xlabel(\"Ano\")\n",
    "plt.ylabel(\"Preço (US$)\")\n",
    "plt.legend()\n",
    "plt.grid(True)\n",
    "plt.show()"
   ]
  },
  {
   "cell_type": "markdown",
   "metadata": {},
   "source": [
    "17. Decomposição da Série Temporal do Preço do Petróleo"
   ]
  },
  {
   "cell_type": "code",
   "execution_count": null,
   "metadata": {},
   "outputs": [],
   "source": [
    "\n",
    "df = pd.read_csv(\"dados/dados_petroleo_brent_2005_2025.csv\")\n",
    "df[\"Data\"] = pd.to_datetime(df[\"Data\"], format=\"%Y-%m-%d\", errors=\"coerce\")\n",
    "\n",
    "\n",
    "df.set_index(\"Data\", inplace=True)\n",
    "\n",
    "\n",
    "decomposition = seasonal_decompose(df[\"Preço (US$)\"], model=\"additive\", period=365)\n",
    "\n",
    "\n",
    "plt.figure(figsize=(12, 10))\n",
    "\n",
    "\n",
    "plt.subplot(4, 1, 1)\n",
    "plt.plot(df[\"Preço (US$)\"], label=\"Série Original\", color=\"orange\")\n",
    "plt.legend()\n",
    "plt.title(\"Decomposição da Série Temporal - Preço do Petróleo Brent\")\n",
    "\n",
    "\n",
    "plt.subplot(4, 1, 2)\n",
    "plt.plot(decomposition.trend, label=\"Tendência\", color=\"red\")\n",
    "plt.legend()\n",
    "\n",
    "\n",
    "plt.subplot(4, 1, 3)\n",
    "plt.plot(decomposition.seasonal, label=\"Sazonalidade\", color=\"green\")\n",
    "plt.legend()\n",
    "\n",
    "\n",
    "plt.subplot(4, 1, 4)\n",
    "plt.plot(decomposition.resid, label=\"Resíduo\", color=\"purple\")\n",
    "plt.legend()\n",
    "\n",
    "\n",
    "plt.tight_layout()\n",
    "plt.show()"
   ]
  },
  {
   "cell_type": "markdown",
   "metadata": {},
   "source": [
    "# 18. Testando o Modelo Prophet para Previsão do Preço do Petróleo Brent"
   ]
  },
  {
   "cell_type": "code",
   "execution_count": null,
   "metadata": {},
   "outputs": [],
   "source": [
    "# Carregar os dados históricos\n",
    "try:\n",
    "    df = pd.read_csv(\"dados/dados_petroleo_brent_2005_2025.csv\")\n",
    "    print(\"Arquivo carregado com sucesso!\")\n",
    "except Exception as e:\n",
    "    print(f\"Erro ao carregar o arquivo: {e}\")\n",
    "    raise\n",
    "\n",
    "# Converter a coluna \"Data\" para o formato datetime\n",
    "df[\"Data\"] = pd.to_datetime(df[\"Data\"])\n",
    "\n",
    "# Ordenar os dados por data\n",
    "df = df.sort_values(by=\"Data\")\n",
    "\n",
    "# Exibir as 5 primeiras linhas para conferência\n",
    "df.head()\n",
    "\n",
    "\n",
    "#3. Divisão dos Dados em Treino e Teste\n",
    "\n",
    "# Definir período de treino e teste\n",
    "train = df[df[\"Data\"] < \"2023-01-01\"].copy()\n",
    "test = df[df[\"Data\"] >= \"2023-01-01\"].copy()\n",
    "\n",
    "# Exibir quantidades de dados\n",
    "print(f\"Dados de treino: {len(train)} linhas\")\n",
    "print(f\"Dados de teste: {len(test)} linhas\")\n",
    "\n",
    "\n",
    "# Renomear colunas para o formato do Prophet\n",
    "df_prophet = df.rename(columns={\"Data\": \"ds\", \"Preço (US$)\": \"y\"})\n",
    "\n",
    "# Criar e treinar o modelo Prophet\n",
    "model = Prophet()\n",
    "model.fit(df_prophet)\n",
    "\n",
    "\n",
    "# Converter conjunto de teste para o formato do Prophet\n",
    "future_test = test.rename(columns={\"Data\": \"ds\"})\n",
    "\n",
    "# Gerar previsões apenas para o período de teste\n",
    "forecast_test = model.predict(future_test)\n",
    "\n",
    "# Adicionar as previsões ao DataFrame de teste\n",
    "test[\"Previsão\"] = forecast_test[\"yhat\"].values\n",
    "\n",
    "# Exibir as 5 primeiras previsões\n",
    "test.head()"
   ]
  },
  {
   "cell_type": "code",
   "execution_count": null,
   "metadata": {},
   "outputs": [],
   "source": [
    "# Gerar previsões para o futuro (1 ano)\n",
    "future = model.make_future_dataframe(periods=360)\n",
    "forecast = model.predict(future)\n",
    "\n",
    "# Gráfico das previsões do modelo Prophet\n",
    "fig, ax = plt.subplots(figsize=(12, 6))\n",
    "model.plot(forecast, ax=ax)\n",
    "ax.legend([\"Histórico\", \"Previsão\", \"Intervalo de Confiança\"])\n",
    "plt.title(\"Modelo Prophet - Previsão do Preço do Petróleo Brent\")\n",
    "plt.show()\n",
    "\n",
    "# Calcular RMSE corretamente\n",
    "rmse = mean_squared_error(test[\"Preço (US$)\"], test[\"Previsão\"]) ** 0.5\n",
    "print(f\"RMSE (Prophet): {rmse:.2f}\")"
   ]
  },
  {
   "cell_type": "markdown",
   "metadata": {},
   "source": [
    "# 19. Modelo Prophet + XGBoost para Previsão Ajustada"
   ]
  },
  {
   "cell_type": "code",
   "execution_count": null,
   "metadata": {},
   "outputs": [],
   "source": [
    "try:\n",
    "    df = pd.read_csv(\"dados/dados_petroleo_brent_2005_2025.csv\")\n",
    "    print(\"Arquivo carregado com sucesso!\")\n",
    "except Exception as e:\n",
    "    print(f\"Erro ao carregar o arquivo: {e}\")\n",
    "    raise\n",
    "\n",
    "# Verificar colunas esperadas\n",
    "if \"Data\" not in df.columns or \"Preço (US$)\" not in df.columns:\n",
    "    raise ValueError(\"O arquivo CSV deve conter as colunas 'Data' e 'Preço (US$)'.\")\n",
    "\n",
    "# Converter colunas para os tipos corretos\n",
    "df[\"ds\"] = pd.to_datetime(df[\"Data\"], errors=\"coerce\")  # Converte para datetime\n",
    "df[\"y\"] = pd.to_numeric(df[\"Preço (US$)\"], errors=\"coerce\")  # Converte para numérico\n",
    "\n",
    "# Verificar valores ausentes\n",
    "if df[\"ds\"].isnull().any() or df[\"y\"].isnull().any():\n",
    "    print(\"Atenção: Há valores ausentes nas colunas 'Data' ou 'Preço (US$)'. Preenchendo valores ausentes...\")\n",
    "    df[\"ds\"].fillna(method=\"ffill\", inplace=True)  # Preenche datas ausentes\n",
    "    df[\"y\"].fillna(method=\"ffill\", inplace=True)  # Preenche preços ausentes\n",
    "\n",
    "# Ordenar os dados corretamente\n",
    "df = df.sort_values(by=\"ds\").reset_index(drop=True)\n",
    "\n",
    "# Remover duplicatas\n",
    "if df.duplicated(subset=[\"ds\"]).any():\n",
    "    print(\"Atenção: Há duplicatas na coluna 'Data'. Removendo duplicatas...\")\n",
    "    df = df.drop_duplicates(subset=[\"ds\"])\n",
    "\n",
    "# Exibir as primeiras linhas do DataFrame tratado\n",
    "df.head()"
   ]
  },
  {
   "cell_type": "markdown",
   "metadata": {},
   "source": [
    "## Treinamento do Modelo Prophet"
   ]
  },
  {
   "cell_type": "code",
   "execution_count": null,
   "metadata": {},
   "outputs": [],
   "source": [
    "# Criar e treinar o modelo Prophet\n",
    "prophet = Prophet()\n",
    "prophet.fit(df[[\"ds\", \"y\"]])  # Usando apenas as colunas necessárias\n",
    "\n",
    "# Definir a data final desejada (31 de dezembro de 2026)\n",
    "data_final_desejada = pd.to_datetime(\"2026-12-31\")\n",
    "\n",
    "# Calcular o número de dias até essa data\n",
    "ultima_data_df = df[\"ds\"].max()\n",
    "dias_ate_2026 = (data_final_desejada - ultima_data_df).days\n",
    "\n",
    "# Criar previsões do Prophet até o final de 2026\n",
    "future = prophet.make_future_dataframe(periods=dias_ate_2026)\n",
    "prophet_future = prophet.predict(future)\n",
    "\n",
    "# Mesclar previsões do Prophet com o DataFrame original\n",
    "df = df.merge(prophet_future[[\"ds\", \"yhat\", \"yhat_lower\", \"yhat_upper\"]], on=\"ds\", how=\"left\")\n",
    "\n",
    "# Exibir as 5 primeiras previsões do Prophet\n",
    "df.head()"
   ]
  },
  {
   "cell_type": "markdown",
   "metadata": {},
   "source": [
    "## Ajuste das Previsões com XGBoost"
   ]
  },
  {
   "cell_type": "code",
   "execution_count": null,
   "metadata": {},
   "outputs": [],
   "source": [
    "#Renomear colunas para facilitar a interpretação\n",
    "df.rename(\n",
    "    columns={\n",
    "        \"ds\": \"Data\",\n",
    "        \"y\": \"Preço Real\",\n",
    "        \"yhat\": \"Preço Previsto\",\n",
    "        \"yhat_lower\": \"Intervalo Inferior\",\n",
    "        \"yhat_upper\": \"Intervalo Superior\",\n",
    "    },\n",
    "    inplace=True,\n",
    ")\n",
    "\n",
    "\n",
    "# Criar a coluna de resíduos\n",
    "df[\"Resíduo\"] = df[\"Preço Real\"] - df[\"Preço Previsto\"]\n",
    "# Remover colunas duplicadas após a renomeação\n",
    "df = df.loc[:, ~df.columns.duplicated()]\n",
    "# Criar features para o modelo XGBoost (lags dos resíduos)\n",
    "for i in range(1, 8):  # Criar lags de 1 a 7 dias\n",
    "    df[f\"Resíduo_Lag_{i}\"] = df[\"Resíduo\"].shift(i)\n",
    "\n",
    "# Remover linhas com valores ausentes gerados pelos lags\n",
    "df.dropna(inplace=True)\n",
    "\n",
    "# Dividir os dados em treino e teste (80% para treino)\n",
    "train_size = int(len(df) * 0.8)\n",
    "train = df.iloc[:train_size]\n",
    "test = df.iloc[train_size:]\n",
    "\n",
    "# Definir features e target para XGBoost\n",
    "features = [f\"Resíduo_Lag_{i}\" for i in range(1, 8)]\n",
    "X_train, y_train = train[features], train[\"Resíduo\"]\n",
    "X_test, y_test = test[features], test[\"Resíduo\"]\n",
    "\n",
    "# Treinar o modelo XGBoost\n",
    "model_xgb = xgb.XGBRegressor(objective=\"reg:squarederror\", n_estimators=100, learning_rate=0.1, random_state=42)\n",
    "model_xgb.fit(X_train, y_train)\n",
    "\n",
    "# Fazer previsões com XGBoost\n",
    "y_pred_residuo = model_xgb.predict(X_test)\n",
    "\n",
    "# Ajustar as previsões do Prophet com os resíduos previstos pelo XGBoost\n",
    "test[\"Preço Previsto Ajustado\"] = test[\"Preço Previsto\"] + y_pred_residuo\n",
    "\n",
    "# Exibir as primeiras previsões ajustadas\n",
    "test.head()"
   ]
  },
  {
   "cell_type": "markdown",
   "metadata": {},
   "source": [
    "## Avaliação do Modelo"
   ]
  },
  {
   "cell_type": "code",
   "execution_count": null,
   "metadata": {},
   "outputs": [],
   "source": [
    "# Calcular métricas de desempenho para as previsões ajustadas\n",
    "rmse_ajustado = np.sqrt(mean_squared_error(test['Preço Real'], test['Preço Previsto Ajustado']))\n",
    "mae_ajustado = mean_absolute_error(test['Preço Real'], test['Preço Previsto Ajustado'])\n",
    "mape_ajustado = np.mean(np.abs((test['Preço Real'] - test['Preço Previsto Ajustado']) / test['Preço Real'])) * 100\n",
    "\n",
    "print(f\"RMSE (Ajustado): {rmse_ajustado}\")\n",
    "print(f\"MAE (Ajustado): {mae_ajustado}\")\n",
    "print(f\"MAPE (Ajustado): {mape_ajustado}%\")\n",
    "\n",
    "# # Salvar os modelos treinados\n",
    "# joblib.dump(prophet, 'modelo_prophet.pkl')  # Salvar o modelo Prophet\n",
    "# joblib.dump(model_xgb, 'modelo_xgboost.pkl')  # Salvar o modelo XGBoost\n",
    "# print(\"Modelos salvos com sucesso!\")\n",
    "\n",
    "# Criar previsões para 2025-2026\n",
    "future_df = prophet_future[['ds', 'yhat', 'yhat_lower', 'yhat_upper']].copy()\n",
    "future_df = future_df[future_df['ds'] >= '2025-01-01']  # Filtrar apenas anos futuros\n",
    "\n",
    "# Criar features de calendário para o futuro\n",
    "future_df['year'] = future_df['ds'].dt.year\n",
    "future_df['month'] = future_df['ds'].dt.month\n",
    "future_df['day'] = future_df['ds'].dt.day\n",
    "future_df['dayofweek'] = future_df['ds'].dt.dayofweek\n",
    "\n",
    "# Criar lags com os últimos dados disponíveis\n",
    "for i in range(1, 8):\n",
    "    future_df[f'Resíduo_Lag_{i}'] = df[f'Resíduo_Lag_{i}'].iloc[-1]\n",
    "\n",
    "# Aplicar XGBoost para correção da previsão de 2025-2026\n",
    "future_X = future_df[features]\n",
    "y_pred_residuo_future = model_xgb.predict(future_X)\n",
    "future_df['Preço Previsto Ajustado'] = future_df['yhat'] + y_pred_residuo_future\n",
    "\n",
    "# Criar intervalo de confiança para a previsão corrigida\n",
    "future_df['Preço Previsto Ajustado Inferior'] = future_df['yhat_lower'] + y_pred_residuo_future\n",
    "future_df['Preço Previsto Ajustado Superior'] = future_df['yhat_upper'] + y_pred_residuo_future\n",
    "\n",
    "# Criar título com métricas\n",
    "title_text = (f\"Correção de Previsão Prophet com XGBoost\\n\"\n",
    "              f\"RMSE: {rmse_ajustado:.2f}, MAE: {mae_ajustado:.2f}, MAPE: {mape_ajustado:.2f}%\")"
   ]
  },
  {
   "cell_type": "markdown",
   "metadata": {},
   "source": [
    "## Visualização das Previsões"
   ]
  },
  {
   "cell_type": "code",
   "execution_count": null,
   "metadata": {},
   "outputs": [],
   "source": [
    "\n",
    "# Plotar resultados\n",
    "plt.figure(figsize=(14, 6))\n",
    "df['Data'] = pd.to_datetime(df['Data'])\n",
    "test['Data'] = pd.to_datetime(test['Data'])\n",
    "future_df['ds'] = pd.to_datetime(future_df['ds'])\n",
    "\n",
    "# Adicionando o histórico completo ao gráfico\n",
    "plt.plot(df['Data'], df['Preço Real'], label=\"Histórico Completo (Real)\", color=\"blue\", linewidth=1.2)\n",
    "\n",
    "# Adicionando os dados reais do conjunto de teste\n",
    "plt.plot(test['Data'], test['Preço Real'], label=\"Teste (Real)\", color=\"green\", linewidth=1.5)\n",
    "\n",
    "# Adicionando a previsão do Prophet\n",
    "plt.plot(df['Data'], df['Preço Previsto'], label=\"Previsão Prophet\", linestyle=\"--\", color=\"orange\", linewidth=1.5)\n",
    "\n",
    "# Adicionando a previsão corrigida\n",
    "plt.plot(test['Data'], test['Preço Previsto Ajustado'], label=\"Previsão Corrigida (Prophet + XGBoost)\", linestyle=\"-\", color=\"purple\", linewidth=1.5)\n",
    "\n",
    "plt.plot(future_df['ds'], future_df['Preço Previsto Ajustado'], label=\"Previsão Futura Corrigida (2025-2026)\", linestyle=\"-\", color=\"red\", linewidth=1.5)\n",
    "\n",
    "# Adicionar intervalo de confiança\n",
    "plt.fill_between(future_df['ds'], future_df['Preço Previsto Ajustado Inferior'], future_df['Preço Previsto Ajustado Superior'], color='gray', alpha=0.3, label=\"Intervalo de Confiança\")\n",
    "\n",
    "plt.title(title_text)\n",
    "plt.xlabel(\"Data\")\n",
    "plt.ylabel(\"Preço (US$)\")\n",
    "plt.grid()\n",
    "plt.legend()\n",
    "plt.show()"
   ]
  },
  {
   "cell_type": "markdown",
   "metadata": {},
   "source": [
    "## Salvar as Previsões"
   ]
  },
  {
   "cell_type": "code",
   "execution_count": null,
   "metadata": {},
   "outputs": [],
   "source": [
    "# Criar tabela com as previsões futuras (2025-2026)\n",
    "future_df = prophet_future[[\"ds\", \"yhat\", \"yhat_lower\", \"yhat_upper\"]].copy()\n",
    "future_df = future_df[future_df[\"ds\"] >= \"2025-01-01\"]  # Filtrar apenas anos futuros\n",
    "\n",
    "# Criar lags para previsões futuras\n",
    "for i in range(1, 8):\n",
    "    future_df[f\"Resíduo_Lag_{i}\"] = df[f\"Resíduo_Lag_{i}\"].iloc[-1]\n",
    "\n",
    "# Aplicar XGBoost para correção da previsão futura\n",
    "future_X = future_df[features]\n",
    "y_pred_residuo_future = model_xgb.predict(future_X)\n",
    "future_df[\"Preço Previsto Ajustado\"] = future_df[\"yhat\"] + y_pred_residuo_future\n",
    "\n",
    "# Salvar as previsões ajustadas\n",
    "future_df.to_csv(\"dados/previsoes_futuras.csv\", index=False)\n",
    "print(\"Previsões futuras salvas com sucesso!\")"
   ]
  },
  {
   "cell_type": "code",
   "execution_count": null,
   "metadata": {},
   "outputs": [],
   "source": [
    "#Carregar os dados\n",
    "try:\n",
    "    df = pd.read_csv(\"dados/dados_petroleo_brent_2005_2025.csv\")\n",
    "    print(\"Arquivo carregado com sucesso!\")\n",
    "except Exception as e:\n",
    "    print(f\"Erro ao carregar o arquivo: {e}\")\n",
    "    raise\n",
    "\n",
    "# Verificar colunas esperadas\n",
    "if 'Data' not in df.columns or 'Preço (US$)' not in df.columns:\n",
    "    raise ValueError(\"O arquivo CSV deve conter as colunas 'Data' e 'Preço (US$)'.\")\n",
    "\n",
    "# Converter colunas para os tipos corretos\n",
    "df['ds'] = pd.to_datetime(df['Data'], errors='coerce')  # Converte para datetime\n",
    "df['y'] = pd.to_numeric(df['Preço (US$)'], errors='coerce')  # Converte para numérico\n",
    "\n",
    "# Verificar valores ausentes\n",
    "if df['ds'].isnull().any() or df['y'].isnull().any():\n",
    "    print(\"Atenção: Há valores ausentes nas colunas 'Data' ou 'Preço (US$)'. Preenchendo valores ausentes...\")\n",
    "    df['ds'].fillna(method='ffill', inplace=True)  # Preenche datas ausentes\n",
    "    df['y'].fillna(method='ffill', inplace=True)  # Preenche preços ausentes\n",
    "\n",
    "# Ordenar os dados corretamente\n",
    "df = df.sort_values(by='ds').reset_index(drop=True)\n",
    "\n",
    "# Verificar e remover duplicatas na coluna 'ds' (Data)\n",
    "if df.duplicated(subset=['ds']).any():\n",
    "    print(\"Atenção: Há duplicatas na coluna 'Data'. Removendo duplicatas...\")\n",
    "    df = df.drop_duplicates(subset=['ds'])\n",
    "\n",
    "# Treinar o modelo Prophet\n",
    "prophet = Prophet()\n",
    "prophet.fit(df[['ds', 'y']])  # Usando apenas as colunas 'ds' e 'y'\n",
    "\n",
    "# Definir a data final desejada (31 de dezembro de 2026)\n",
    "data_final_desejada = pd.to_datetime('2026-12-31')\n",
    "\n",
    "# Calcular o número de dias até a data final desejada\n",
    "ultima_data_df = df['ds'].max()\n",
    "dias_ate_2026 = (data_final_desejada - ultima_data_df).days\n",
    "\n",
    "# Criar previsões do Prophet até o final de 2026\n",
    "future = prophet.make_future_dataframe(periods=dias_ate_2026)  \n",
    "prophet_future = prophet.predict(future)\n",
    "\n",
    "# Mesclar previsões do Prophet com o DataFrame original\n",
    "df = df.merge(prophet_future[['ds', 'yhat', 'yhat_lower', 'yhat_upper']], on='ds', how='left')\n",
    "\n",
    "# Verificar duplicatas após a mesclagem\n",
    "if df.duplicated(subset=['ds']).any():\n",
    "    print(\"Atenção: Há duplicatas após a mesclagem. Removendo duplicatas...\")\n",
    "    df = df.drop_duplicates(subset=['ds'])\n",
    "\n",
    "# Renomear as colunas de forma clara e estruturada\n",
    "mapeamento_colunas = {\n",
    "    'ds': 'Data',\n",
    "    'y': 'Preço Real',\n",
    "    'yhat': 'Preço Previsto',\n",
    "    'yhat_lower': 'Intervalo Inferior',\n",
    "    'yhat_upper': 'Intervalo Superior'\n",
    "}\n",
    "\n",
    "df.rename(columns=mapeamento_colunas, inplace=True)\n",
    "\n",
    "# Remover colunas duplicadas após a renomeação\n",
    "df = df.loc[:, ~df.columns.duplicated()]\n",
    "\n",
    "# Calcular resíduos (erros) do Prophet\n",
    "df['Resíduo'] = df['Preço Real'] - df['Preço Previsto']\n",
    "\n",
    "# Criar features para o modelo XGBoost\n",
    "# Adicionar lags dos resíduos como features\n",
    "for i in range(1, 8): \n",
    "    df[f'Resíduo_Lag_{i}'] = df['Resíduo'].shift(i)\n",
    "\n",
    "# Remover linhas com valores ausentes gerados pelos lags\n",
    "df.dropna(inplace=True)\n",
    "\n",
    "# Dividir os dados em treino e teste\n",
    "train_size = int(len(df) * 0.8)  # 80% para treino, 20% para teste\n",
    "train = df.iloc[:train_size]\n",
    "test = df.iloc[train_size:]\n",
    "\n",
    "# Definir features e target para o XGBoost\n",
    "features = [f'Resíduo_Lag_{i}' for i in range(1, 8)]  \n",
    "X_train = train[features]\n",
    "y_train = train['Resíduo']\n",
    "X_test = test[features]\n",
    "y_test = test['Resíduo']\n",
    "\n",
    "# Treinar o modelo XGBoost\n",
    "model_xgb = xgb.XGBRegressor(objective='reg:squarederror', n_estimators=100, learning_rate=0.1, random_state=42)\n",
    "model_xgb.fit(X_train, y_train)\n",
    "\n",
    "# Fazer previsões com o XGBoost\n",
    "y_pred_residuo = model_xgb.predict(X_test)\n",
    "\n",
    "# Ajustar as previsões do Prophet com os resíduos previstos pelo XGBoost\n",
    "test['Preço Previsto Ajustado'] = test['Preço Previsto'] + y_pred_residuo\n",
    "\n",
    "# Calcular métricas de desempenho para as previsões ajustadas\n",
    "rmse_ajustado = np.sqrt(mean_squared_error(test['Preço Real'], test['Preço Previsto Ajustado']))\n",
    "mae_ajustado = mean_absolute_error(test['Preço Real'], test['Preço Previsto Ajustado'])\n",
    "mape_ajustado = np.mean(np.abs((test['Preço Real'] - test['Preço Previsto Ajustado']) / test['Preço Real'])) * 100\n",
    "\n",
    "print(f\"RMSE (Ajustado): {rmse_ajustado}\")\n",
    "print(f\"MAE (Ajustado): {mae_ajustado}\")\n",
    "print(f\"MAPE (Ajustado): {mape_ajustado}%\")\n",
    "\n",
    "# Salvar os modelos treinados\n",
    "joblib.dump(prophet, 'dados/modelo_prophet.pkl')  \n",
    "joblib.dump(model_xgb, 'dados/modelo_xgboost.pkl')  \n",
    "print(\"Modelos salvos com sucesso!\")\n",
    "\n",
    "#  Criar previsões para 2025-2026\n",
    "future_df = prophet_future[['ds', 'yhat', 'yhat_lower', 'yhat_upper']].copy()\n",
    "future_df = future_df[future_df['ds'] >= '2025-01-01']  # Filtrar apenas anos futuros\n",
    "\n",
    "# Criar features de calendário para o futuro\n",
    "future_df['year'] = future_df['ds'].dt.year\n",
    "future_df['month'] = future_df['ds'].dt.month\n",
    "future_df['day'] = future_df['ds'].dt.day\n",
    "future_df['dayofweek'] = future_df['ds'].dt.dayofweek\n",
    "\n",
    "# Criar lags com os últimos dados disponíveis\n",
    "for i in range(1, 8):\n",
    "    future_df[f'Resíduo_Lag_{i}'] = df[f'Resíduo_Lag_{i}'].iloc[-1]\n",
    "\n",
    "# Aplicar XGBoost para correção da previsão de 2025-2026\n",
    "future_X = future_df[features]\n",
    "y_pred_residuo_future = model_xgb.predict(future_X)\n",
    "future_df['Preço Previsto Ajustado'] = future_df['yhat'] + y_pred_residuo_future\n",
    "\n",
    "# Criar intervalo de confiança para a previsão corrigida\n",
    "future_df['Preço Previsto Ajustado Inferior'] = future_df['yhat_lower'] + y_pred_residuo_future\n",
    "future_df['Preço Previsto Ajustado Superior'] = future_df['yhat_upper'] + y_pred_residuo_future\n",
    "\n",
    "# Criar título com métricas\n",
    "title_text = (f\"Correção de Previsão Prophet com XGBoost\\n\"\n",
    "              f\"RMSE: {rmse_ajustado:.2f}, MAE: {mae_ajustado:.2f}, MAPE: {mape_ajustado:.2f}%\")\n",
    "\n",
    "\n",
    "# Plotar resultados\n",
    "plt.figure(figsize=(14, 6))\n",
    "df['Data'] = pd.to_datetime(df['Data'])\n",
    "test['Data'] = pd.to_datetime(test['Data'])\n",
    "future_df['ds'] = pd.to_datetime(future_df['ds'])\n",
    "\n",
    "# Adicionando o histórico completo ao gráfico\n",
    "plt.plot(df['Data'], df['Preço Real'], label=\"Histórico Completo (Real)\", color=\"blue\", linewidth=1.2)\n",
    "\n",
    "# Adicionando os dados reais do conjunto de teste\n",
    "plt.plot(test['Data'], test['Preço Real'], label=\"Teste (Real)\", color=\"green\", linewidth=1.5)\n",
    "\n",
    "# Adicionando a previsão do Prophet\n",
    "plt.plot(df['Data'], df['Preço Previsto'], label=\"Previsão Prophet\", linestyle=\"--\", color=\"orange\", linewidth=1.5)\n",
    "\n",
    "# Adicionando a previsão corrigida\n",
    "plt.plot(test['Data'], test['Preço Previsto Ajustado'], label=\"Previsão Corrigida (Prophet + XGBoost)\", linestyle=\"-\", color=\"purple\", linewidth=1.5)\n",
    "\n",
    "\n",
    "plt.plot(future_df['ds'], future_df['Preço Previsto Ajustado'], label=\"Previsão Futura Corrigida (2025-2026)\", linestyle=\"-\", color=\"red\", linewidth=1.5)\n",
    "\n",
    "# Adicionar intervalo de confiança\n",
    "plt.fill_between(future_df['ds'], future_df['Preço Previsto Ajustado Inferior'], future_df['Preço Previsto Ajustado Superior'], color='gray', alpha=0.3, label=\"Intervalo de Confiança\")\n",
    "\n",
    "plt.title(title_text)\n",
    "plt.xlabel(\"Data\")\n",
    "plt.ylabel(\"Preço (US$)\")\n",
    "plt.grid()\n",
    "plt.legend()\n",
    "plt.show()\n",
    "\n",
    "\n",
    "# Criar tabela com as previsões futuras\n",
    "tabela_previsoes = future_df[['ds', 'Preço Previsto Ajustado', 'Preço Previsto Ajustado Inferior', 'Preço Previsto Ajustado Superior']]\n",
    "tabela_previsoes.columns = ['Data', 'Preço Previsto Ajustado', 'Intervalo Inferior', 'Intervalo Superior']\n",
    "\n",
    "# Exibir a tabela no console\n",
    "print(\"\\nTabela de Previsões Futuras (2025-2026):\")\n",
    "print(tabela_previsoes)\n",
    "\n",
    "# Salvar a tabela como um arquivo CSV\n",
    "tabela_previsoes.to_csv('dados/previsoes_futuras.csv', index=False)\n",
    "print(\"\\nTabela de previsões salva como 'previsoes_futuras.csv'.\")"
   ]
  },
  {
   "cell_type": "markdown",
   "metadata": {},
   "source": [
    "# 20. Criar funcao para gerar tabela automaticamente"
   ]
  },
  {
   "cell_type": "code",
   "execution_count": 165,
   "metadata": {},
   "outputs": [],
   "source": [
    "# Função para criar tabela de previsões a partir de uma data específica\n",
    "def criar_tabela_previsoes(data_inicio, dias_futuros, df_inicial):\n",
    "    \"\"\"\n",
    "    Função para criar uma tabela de previsões a partir de uma data específica.\n",
    "    :param data_inicio: Data inicial no formato 'YYYY-MM-DD'.\n",
    "    :param dias_futuros: Número de dias para prever no futuro.\n",
    "    :param df_inicial: DataFrame inicial com os dados históricos.\n",
    "    :return: DataFrame com as previsões.\n",
    "    \"\"\"\n",
    "    # Carregar os modelos salvos\n",
    "    prophet = joblib.load('modelo/modelo_prophet.pkl')\n",
    "    model_xgb = joblib.load('modelo/modelo_xgboost.pkl')\n",
    "\n",
    "    # Criar DataFrame com as datas futuras\n",
    "    datas_futuras = pd.date_range(start=data_inicio, periods=dias_futuros, freq='D')\n",
    "    future_df = pd.DataFrame({'ds': datas_futuras})\n",
    "\n",
    "    # Fazer previsões com o Prophet\n",
    "    prophet_future = prophet.predict(future_df)\n",
    "\n",
    "    # Mesclar previsões do Prophet com o DataFrame futuro\n",
    "    future_df = future_df.merge(prophet_future[['ds', 'yhat', 'yhat_lower', 'yhat_upper']], on='ds', how='left')\n",
    "\n",
    "    # Calcular resíduos previstos pelo XGBoost\n",
    "    # Para isso, precisamos dos últimos 7 resíduos históricos\n",
    "    ultimos_residuos = df_inicial['Resíduo'].tail(7).values\n",
    "    if len(ultimos_residuos) < 7:\n",
    "        raise ValueError(\"Não há dados históricos suficientes para prever o resíduo.\")\n",
    "\n",
    "    # Criar features para o XGBoost\n",
    "    features_xgb = {f'Resíduo_Lag_{i+1}': ultimos_residuos[-(i+1)] for i in range(7)}\n",
    "    features_xgb = pd.DataFrame([features_xgb])\n",
    "\n",
    "    # Prever o resíduo com o XGBoost\n",
    "    residuo_previsto = model_xgb.predict(features_xgb)[0]\n",
    "\n",
    "    # Ajustar as previsões do Prophet com o resíduo previsto\n",
    "    future_df['Preço Previsto Ajustado'] = future_df['yhat'] + residuo_previsto\n",
    "    future_df['Preço Previsto Ajustado Inferior'] = future_df['yhat_lower'] + residuo_previsto\n",
    "    future_df['Preço Previsto Ajustado Superior'] = future_df['yhat_upper'] + residuo_previsto\n",
    "\n",
    "    # Renomear colunas\n",
    "    future_df.rename(columns={\n",
    "        'ds': 'Data',\n",
    "        'Preço Previsto Ajustado': 'Preço Previsto',\n",
    "        'Preço Previsto Ajustado Inferior': 'Valor Mínimo Esperado',\n",
    "        'Preço Previsto Ajustado Superior': 'Valor Máximo Esperado'\n",
    "    }, inplace=True)\n",
    "\n",
    "    # Arredondar os valores para 2 casas decimais\n",
    "    future_df = future_df.round(2)\n",
    "\n",
    "    # Selecionar colunas relevantes\n",
    "    tabela_previsoes = future_df[['Data', 'Preço Previsto', 'Valor Mínimo Esperado', 'Valor Máximo Esperado']]\n",
    "\n",
    "    return tabela_previsoes\n",
    "\n",
    "\n"
   ]
  },
  {
   "cell_type": "markdown",
   "metadata": {},
   "source": [
    "### TESTANDO FUNCAO"
   ]
  },
  {
   "cell_type": "code",
   "execution_count": null,
   "metadata": {},
   "outputs": [],
   "source": [
    "#Testar a função de criar tabela de previsões\n",
    "data_inicio = '2025-01-01'  # Data inicial para previsões\n",
    "dias_futuros = 30  # Número de dias para prever\n",
    "try:\n",
    "    tabela_previsoes = criar_tabela_previsoes(data_inicio, dias_futuros, df)\n",
    "    print(\"\\nTabela de Previsões Futuras:\")\n",
    "    print(tabela_previsoes)\n",
    "except Exception as e:\n",
    "    print(f\"Erro ao criar tabela de previsões: {e}\")"
   ]
  },
  {
   "cell_type": "code",
   "execution_count": null,
   "metadata": {},
   "outputs": [],
   "source": []
  },
  {
   "cell_type": "code",
   "execution_count": null,
   "metadata": {},
   "outputs": [],
   "source": []
  },
  {
   "cell_type": "code",
   "execution_count": null,
   "metadata": {},
   "outputs": [],
   "source": []
  },
  {
   "cell_type": "code",
   "execution_count": null,
   "metadata": {},
   "outputs": [],
   "source": []
  },
  {
   "cell_type": "code",
   "execution_count": null,
   "metadata": {},
   "outputs": [],
   "source": []
  },
  {
   "cell_type": "code",
   "execution_count": null,
   "metadata": {},
   "outputs": [],
   "source": []
  },
  {
   "cell_type": "code",
   "execution_count": null,
   "metadata": {},
   "outputs": [],
   "source": []
  },
  {
   "cell_type": "code",
   "execution_count": null,
   "metadata": {},
   "outputs": [],
   "source": []
  },
  {
   "cell_type": "code",
   "execution_count": null,
   "metadata": {},
   "outputs": [],
   "source": []
  },
  {
   "cell_type": "code",
   "execution_count": null,
   "metadata": {},
   "outputs": [],
   "source": []
  },
  {
   "cell_type": "code",
   "execution_count": null,
   "metadata": {},
   "outputs": [],
   "source": []
  },
  {
   "cell_type": "code",
   "execution_count": null,
   "metadata": {},
   "outputs": [],
   "source": []
  }
 ],
 "metadata": {
  "kernelspec": {
   "display_name": "venv",
   "language": "python",
   "name": "python3"
  },
  "language_info": {
   "codemirror_mode": {
    "name": "ipython",
    "version": 3
   },
   "file_extension": ".py",
   "mimetype": "text/x-python",
   "name": "python",
   "nbconvert_exporter": "python",
   "pygments_lexer": "ipython3",
   "version": "3.12.5"
  }
 },
 "nbformat": 4,
 "nbformat_minor": 2
}
